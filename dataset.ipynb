{
 "cells": [
  {
   "cell_type": "code",
   "execution_count": 18,
   "metadata": {},
   "outputs": [],
   "source": [
    "# Reformat datasets into adjacency matrices\n",
    "\n",
    "# Facebook data from: https://snap.stanford.edu/data/ego-Facebook.html"
   ]
  },
  {
   "cell_type": "code",
   "execution_count": 19,
   "metadata": {},
   "outputs": [],
   "source": [
    "import gzip\n",
    "import numpy as np\n",
    "import os\n",
    "import requests\n",
    "import tarfile\n"
   ]
  },
  {
   "cell_type": "code",
   "execution_count": 20,
   "metadata": {},
   "outputs": [],
   "source": [
    "# Downloads combined and individual facebook networks\n",
    "link_comb = \"https://snap.stanford.edu/data/facebook_combined.txt.gz\"\n",
    "link_ind = \"https://snap.stanford.edu/data/facebook.tar.gz\"\n",
    "\n",
    "if not os.path.isfile(\"facebook_combined.txt.gz\"):\n",
    "    r = requests.get(link_comb, allow_redirects=True)\n",
    "    open(\"facebook_combined.txt.gz\", \"wb\").write(r.content)\n",
    "    print(\"File downloaded from\", link_comb)\n",
    "    \n",
    "if not os.path.isfile(\"facebook.tar.gz\"):\n",
    "    r = requests.get(link_ind, allow_redirects=True)\n",
    "    open(\"facebook.tar.gz\", \"wb\").write(r.content)\n",
    "    print(\"File downloaded from\", link_ind)\n",
    "    \n",
    "if not os.path.isdir(\"facebook\"):\n",
    "    tar = tarfile.open(\"facebook.tar.gz\", \"r:gz\")\n",
    "    tar.extractall()\n",
    "    tar.close()\n",
    "    print(\"Files extracted for facebook.tar.gz\")\n"
   ]
  },
  {
   "cell_type": "code",
   "execution_count": 21,
   "metadata": {},
   "outputs": [
    {
     "name": "stdout",
     "output_type": "stream",
     "text": [
      "[[0 1 1 ... 0 0 0]\n",
      " [1 0 0 ... 0 0 0]\n",
      " [1 0 0 ... 0 0 0]\n",
      " ...\n",
      " [0 0 0 ... 0 0 0]\n",
      " [0 0 0 ... 0 0 0]\n",
      " [0 0 0 ... 0 0 0]]\n"
     ]
    }
   ],
   "source": [
    "# Combined Facebook data, 4039 nodes\n",
    "matrix = np.zeros((4039, 4039), dtype=int)\n",
    "with gzip.open(\"facebook_combined.txt.gz\", \"rt\") as f:\n",
    "    content = f.readlines()\n",
    "    \n",
    "    for line in content:\n",
    "        friend = line.split()\n",
    "        matrix[int(friend[0])][int(friend[1])] += 1\n",
    "        matrix[int(friend[1])][int(friend[0])] += 1\n",
    "    f.close()\n",
    "    \n",
    "print(matrix)\n"
   ]
  },
  {
   "cell_type": "code",
   "execution_count": 22,
   "metadata": {},
   "outputs": [
    {
     "name": "stdout",
     "output_type": "stream",
     "text": [
      "0.edges\n",
      "107.edges\n",
      "1684.edges\n",
      "1912.edges\n",
      "3437.edges\n",
      "348.edges\n",
      "3980.edges\n",
      "414.edges\n",
      "686.edges\n",
      "698.edges\n"
     ]
    }
   ],
   "source": [
    "# Facebook data: facebook.tar.gz, contains 10 separate networks\n",
    "# prints all edge files of facebook data\n",
    "files = os.listdir(\"facebook/\")\n",
    "for file in files:\n",
    "    if \".edges\" in file:\n",
    "        print(file)\n"
   ]
  },
  {
   "cell_type": "code",
   "execution_count": 24,
   "metadata": {},
   "outputs": [
    {
     "name": "stdout",
     "output_type": "stream",
     "text": [
      "[[0 1 0 ... 0 0 0]\n",
      " [1 0 0 ... 0 0 0]\n",
      " [0 0 0 ... 0 0 0]\n",
      " ...\n",
      " [0 0 0 ... 0 1 0]\n",
      " [0 0 0 ... 1 0 0]\n",
      " [0 0 0 ... 0 0 0]]\n"
     ]
    }
   ],
   "source": [
    "# Creates adjacency matrix representation for \n",
    "# smallest graph in Facebook data\n",
    "matrix2 = np.zeros((52, 52), dtype=int)\n",
    "with open(\"facebook/3980.edges\", \"rt\") as f:\n",
    "    content = f.readlines()\n",
    "    nodes = dict()\n",
    "    i = 0\n",
    "    for line in content:\n",
    "        edge = line.split()\n",
    "        if edge[0] not in nodes:\n",
    "            nodes[edge[0]] = i\n",
    "            i += 1\n",
    "        if edge[1] not in nodes:\n",
    "            nodes[edge[1]] = i\n",
    "            i += 1\n",
    "        matrix2[nodes[edge[0]]][nodes[edge[1]]] = 1\n",
    "        matrix2[nodes[edge[1]]][nodes[edge[0]]] = 1\n",
    "\n",
    "print(matrix2)\n"
   ]
  }
 ],
 "metadata": {
  "kernelspec": {
   "display_name": "Python 3",
   "language": "python",
   "name": "python3"
  },
  "language_info": {
   "codemirror_mode": {
    "name": "ipython",
    "version": 3
   },
   "file_extension": ".py",
   "mimetype": "text/x-python",
   "name": "python",
   "nbconvert_exporter": "python",
   "pygments_lexer": "ipython3",
   "version": "3.7.3"
  }
 },
 "nbformat": 4,
 "nbformat_minor": 2
}
