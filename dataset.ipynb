{
 "cells": [
  {
   "cell_type": "code",
   "execution_count": 36,
   "metadata": {},
   "outputs": [],
   "source": [
    "# Reformat datasets into adjacency matrices\n",
    "\n",
    "# Facebook data from: https://snap.stanford.edu/data/ego-Facebook.html\n",
    "\n",
    "# Potential others:\n",
    "# - Graph representation of organic solar cell\n",
    "#       (https://data.mendeley.com/datasets/rvdnt639c2/2)\n",
    "# - "
   ]
  },
  {
   "cell_type": "code",
   "execution_count": 37,
   "metadata": {},
   "outputs": [],
   "source": [
    "import gzip\n",
    "import numpy as np\n",
    "import os\n",
    "# import localsolver"
   ]
  },
  {
   "cell_type": "code",
   "execution_count": 38,
   "metadata": {},
   "outputs": [
    {
     "name": "stdout",
     "output_type": "stream",
     "text": [
      "[[0 1 1 ... 0 0 0]\n",
      " [1 0 0 ... 0 0 0]\n",
      " [1 0 0 ... 0 0 0]\n",
      " ...\n",
      " [0 0 0 ... 0 0 0]\n",
      " [0 0 0 ... 0 0 0]\n",
      " [0 0 0 ... 0 0 0]]\n"
     ]
    }
   ],
   "source": [
    "# Facebook data, 4039 nodes\n",
    "matrix = np.zeros((4039, 4039), dtype=int)\n",
    "with gzip.open(\"facebook_combined.txt.gz\", \"rt\") as f:\n",
    "    content = f.readlines()\n",
    "    \n",
    "    for line in content:\n",
    "        friend = line.split()\n",
    "        matrix[int(friend[0])][int(friend[1])] += 1\n",
    "        matrix[int(friend[1])][int(friend[0])] += 1\n",
    "    f.close()\n",
    "    \n",
    "print(matrix)\n"
   ]
  },
  {
   "cell_type": "code",
   "execution_count": 39,
   "metadata": {},
   "outputs": [
    {
     "name": "stdout",
     "output_type": "stream",
     "text": [
      "['0.circles', '0.edges', '0.egofeat', '0.feat', '0.featnames', '107.circles', '107.edges', '107.egofeat', '107.feat', '107.featnames', '1684.circles', '1684.edges', '1684.egofeat', '1684.feat', '1684.featnames', '1912.circles', '1912.edges', '1912.egofeat', '1912.feat', '1912.featnames', '3437.circles', '3437.edges', '3437.egofeat', '3437.feat', '3437.featnames', '348.circles', '348.edges', '348.egofeat', '348.feat', '348.featnames', '3980.circles', '3980.edges', '3980.egofeat', '3980.feat', '3980.featnames', '414.circles', '414.edges', '414.egofeat', '414.feat', '414.featnames', '686.circles', '686.edges', '686.egofeat', '686.feat', '686.featnames', '698.circles', '698.edges', '698.egofeat', '698.feat', '698.featnames']\n",
      "5038\n",
      "53498\n",
      "28048\n",
      "60050\n",
      "9626\n",
      "6384\n",
      "292\n",
      "3980.edges\n",
      "3386\n",
      "3312\n",
      "540\n"
     ]
    }
   ],
   "source": [
    "files = os.listdir(\"facebook/\")\n",
    "print(files)\n",
    "for file in files:\n",
    "    if \".edges\" in file:\n",
    "        with open(\"facebook/\"+file, \"rt\") as f:\n",
    "            content = f.readlines()\n",
    "            count = 0\n",
    "            for line in content:\n",
    "                # print(line)\n",
    "                count += 1\n",
    "            print(count)\n",
    "            if count == 292:\n",
    "                print(file)\n",
    "            f.close()"
   ]
  },
  {
   "cell_type": "code",
   "execution_count": 43,
   "metadata": {},
   "outputs": [
    {
     "name": "stdout",
     "output_type": "stream",
     "text": [
      "{'4038': 0, '4014': 1, '4032': 2, '4027': 3, '4019': 4, '4026': 5, '4023': 6, '4003': 7, '4018': 8, '3997': 9, '4031': 10, '4021': 11, '3998': 12, '4013': 13, '4004': 14, '4030': 15, '3988': 16, '3982': 17, '4002': 18, '4037': 19, '4020': 20, '3995': 21, '3993': 22, '3986': 23, '4017': 24, '3983': 25, '3994': 26, '3999': 27, '4005': 28, '4009': 29, '3991': 30, '3989': 31, '4011': 32, '3992': 33, '3981': 34, '4000': 35, '3985': 36, '594': 37, '3996': 38, '4029': 39, '4001': 40, '4025': 41, '4016': 42, '4034': 43, '3990': 44, '4036': 45, '4033': 46, '4007': 47, '4028': 48, '4012': 49, '3987': 50, '4006': 51}\n",
      "52 594 3981 0.10798816568047337\n",
      "0  \n",
      "1  0  \n",
      "0  0  0  \n",
      "1  0  1  0  \n",
      "0  0  0  0  0  \n",
      "0  0  0  0  1  0  \n",
      "1  1  0  0  0  0  0  \n",
      "0  0  0  0  0  0  1  0  \n",
      "0  0  0  0  0  0  1  0  0  \n",
      "0  0  0  0  1  0  1  0  1  0  \n",
      "1  0  0  1  0  0  1  0  0  0  0  \n",
      "0  1  0  0  0  1  0  0  0  1  0  0  \n",
      "0  1  0  0  1  0  1  0  1  1  0  1  0  \n",
      "1  0  0  0  0  0  1  0  0  0  1  0  0  0  \n",
      "1  0  0  0  0  0  1  0  0  0  1  0  0  1  0  \n",
      "0  1  0  0  1  1  1  1  1  1  0  1  0  0  1  0  \n",
      "0  0  0  0  0  0  0  0  0  0  0  1  0  0  0  1  0  \n",
      "0  1  0  0  0  1  1  1  0  1  0  1  1  0  0  1  1  0  \n",
      "0  0  0  1  0  0  1  0  0  0  1  0  1  0  0  0  0  0  0  \n",
      "0  1  0  0  0  0  0  0  0  0  0  0  0  0  0  0  0  1  0  0  \n",
      "1  0  0  1  0  0  0  0  0  0  1  0  0  0  1  1  0  0  1  1  0  \n",
      "0  1  0  0  0  1  1  0  0  0  0  0  0  0  1  0  1  0  0  0  0  0  \n",
      "0  0  0  0  0  0  0  0  0  0  0  0  0  0  1  1  1  0  0  0  0  1  0  \n",
      "0  1  0  0  0  1  0  0  0  0  0  1  0  0  0  1  0  1  0  0  0  0  0  0  \n",
      "0  1  0  0  0  1  0  0  0  0  0  1  0  0  0  1  0  0  0  0  0  0  0  1  0  \n",
      "0  0  0  0  0  0  0  0  0  0  0  0  0  0  0  0  0  0  0  0  0  0  0  0  1  0  \n",
      "0  0  0  0  1  0  1  0  1  1  0  0  1  0  0  1  0  1  0  0  0  0  0  0  0  0  0  \n",
      "0  0  0  0  0  0  0  0  0  0  0  0  1  0  0  0  0  0  0  0  0  0  0  0  0  0  0  0  \n",
      "0  0  0  0  0  0  0  0  0  0  0  0  1  0  0  0  0  0  0  0  0  0  0  0  0  0  0  1  0  \n",
      "0  0  0  0  1  0  1  1  0  1  0  0  1  0  0  1  0  1  0  0  0  0  0  0  0  0  1  0  0  0  \n",
      "0  0  0  0  0  0  0  0  0  0  1  0  0  0  0  0  0  0  0  0  0  0  0  0  0  0  0  0  0  0  0  \n",
      "1  0  0  0  0  0  0  0  0  0  0  0  0  1  0  0  0  0  0  0  0  0  0  0  0  0  0  0  0  0  1  0  \n",
      "0  0  0  0  0  0  0  0  0  0  1  0  0  0  0  0  0  0  0  0  0  0  0  0  0  0  0  0  0  0  0  1  0  \n",
      "0  0  0  0  0  0  0  0  0  0  0  0  0  0  0  0  0  0  0  0  0  0  0  0  1  0  0  0  0  0  0  0  0  0  \n",
      "0  0  0  0  1  0  1  0  1  1  0  0  1  0  0  0  0  0  0  0  0  0  0  0  0  0  1  0  0  1  0  0  0  0  0  \n",
      "0  0  0  0  0  1  0  0  0  0  0  1  0  0  0  1  0  0  0  0  0  1  0  1  1  0  0  0  0  0  0  0  0  1  0  0  \n",
      "0  1  0  0  0  0  0  0  0  0  0  0  0  0  1  0  1  0  0  0  0  1  1  0  0  0  0  0  0  0  0  0  0  0  0  0  0  \n",
      "0  0  0  0  0  0  0  0  0  0  1  0  0  0  0  0  0  0  0  0  0  0  0  0  0  0  0  0  0  0  0  1  1  0  0  0  0  0  \n",
      "0  0  0  0  0  0  0  0  0  0  0  0  0  0  0  0  0  0  1  0  0  0  0  0  0  0  1  0  0  0  0  0  0  0  0  0  0  0  0  \n",
      "0  0  0  0  0  0  0  0  0  0  0  0  0  0  0  0  0  0  0  0  0  0  0  0  0  0  0  0  0  0  0  0  0  0  0  0  0  0  0  0  \n",
      "0  0  0  0  0  0  0  0  0  0  0  0  0  0  0  0  0  0  0  0  0  0  0  0  0  0  0  0  0  0  0  0  0  0  0  0  0  0  0  1  0  \n",
      "0  0  0  0  0  0  0  0  0  0  0  0  0  0  0  0  0  0  0  0  0  0  0  0  0  0  0  0  0  0  0  0  0  0  0  0  0  0  0  0  0  0  \n",
      "0  0  0  0  0  0  0  0  0  0  0  0  0  0  0  0  0  0  0  0  0  0  0  0  0  0  0  0  0  0  0  0  0  0  0  0  0  0  0  0  0  1  0  \n",
      "0  0  0  0  0  0  1  0  0  0  0  0  0  0  0  0  0  0  0  0  0  0  0  0  0  0  0  0  0  0  0  0  0  0  0  0  0  0  0  0  0  0  0  0  \n",
      "0  0  0  0  0  0  0  0  0  0  0  0  0  0  0  0  0  0  0  0  0  0  0  0  0  0  0  0  0  0  0  0  0  0  0  0  0  0  0  0  0  1  1  0  0  \n",
      "0  0  0  0  0  0  0  0  0  0  0  0  0  0  0  0  0  0  0  0  0  0  0  0  0  0  0  1  0  0  0  0  0  0  0  0  0  0  0  0  0  0  0  0  0  0  \n",
      "0  0  0  0  0  0  0  0  0  0  0  0  0  0  0  0  0  0  0  0  0  0  0  1  0  0  0  0  0  0  0  0  0  0  0  1  0  0  0  0  0  0  0  0  0  0  0  \n",
      "0  0  0  0  0  0  0  0  0  0  0  0  0  0  0  0  0  0  0  0  0  0  0  0  0  0  0  0  0  0  0  0  0  0  0  0  0  0  0  0  0  1  1  0  1  0  0  0  \n",
      "0  0  0  0  0  0  0  0  0  0  0  0  0  0  0  0  0  0  0  0  0  0  0  0  0  0  0  0  0  0  0  0  0  0  0  0  0  0  1  0  0  0  0  0  0  0  0  0  0  \n",
      "0  0  0  0  0  0  0  0  0  0  0  0  0  0  0  0  0  0  0  0  0  0  0  0  0  0  0  0  0  0  0  0  0  0  0  0  0  0  0  0  0  0  0  0  0  0  0  0  0  0  \n",
      "0  0  0  0  0  0  0  0  0  0  0  0  0  0  0  0  0  0  0  0  0  0  0  0  0  0  0  0  0  0  0  0  0  0  0  0  0  0  0  0  0  0  0  0  0  0  0  0  0  1  0  \n",
      "0  0  0  1  0  0  0  0  0  0  0  0  0  0  0  0  0  0  0  0  0  0  0  0  0  0  0  0  0  0  0  0  0  0  0  0  0  0  0  0  0  0  0  0  0  0  0  0  0  0  0  0  \n"
     ]
    }
   ],
   "source": [
    "matrix2 = np.zeros((52, 52), dtype=int)\n",
    "with open(\"facebook/3980.edges\", \"rt\") as f:\n",
    "    content = f.readlines()\n",
    "    nodes = dict()\n",
    "    i = 0\n",
    "    for line in content:\n",
    "        edge = line.split()\n",
    "        if edge[0] not in nodes:\n",
    "            nodes[edge[0]] = i\n",
    "            i += 1\n",
    "        if edge[1] not in nodes:\n",
    "            nodes[edge[1]] = i\n",
    "            i += 1\n",
    "        matrix2[nodes[edge[0]]][nodes[edge[1]]] = 1\n",
    "        matrix2[nodes[edge[1]]][nodes[edge[0]]] = 1\n",
    "    print(nodes)\n",
    "print(len(nodes), max(nodes), min(nodes), 292/(52*52))\n",
    "for i in range(len(matrix2)):\n",
    "    for j in range(len(matrix2)):\n",
    "        if j < i or j == i:\n",
    "            print(matrix2[i][j], \" \", end=\"\")\n",
    "    print()"
   ]
  },
  {
   "cell_type": "code",
   "execution_count": 41,
   "metadata": {},
   "outputs": [],
   "source": [
    "# Code for Max cut solver from https://www.localsolver.com/docs/last/exampletour/maxcut.html\n",
    "# with localsolver.LocalSolver() as ls:\n",
    "    \n",
    "#     #\n",
    "#     # Declares the optimization model\n",
    "#     #\n",
    "#     model = ls.model\n",
    "\n",
    "#     # Decision variables x[i]\n",
    "#     # Is true if vertex x[i] is on the right side of the cut and false if it is on the left side of the cut\n",
    "#     x = [model.bool() for i in range(n)]\n",
    "\n",
    "#     # incut[e] is true if its endpoints are in different class of the partition\n",
    "#     incut = [None]*m\n",
    "#     for e in range(m):\n",
    "#         incut[e] = model.neq(x[origin[e] - 1], x[dest[e] - 1])\n",
    "\n",
    "#     # Size of the cut\n",
    "#     cut_weight = model.sum(w[e]*incut[e] for e in range(m))\n",
    "#     model.maximize(cut_weight)\n",
    "\n",
    "#     model.close()\n",
    "\n",
    "#     #\n",
    "#     # Param\n",
    "#     #\n",
    "#     if len(sys.argv) >= 4: ls.param.time_limit = int(sys.argv[3])\n",
    "#     else: ls.param.time_limit = 10\n",
    "\n",
    "#     ls.solve()"
   ]
  }
 ],
 "metadata": {
  "kernelspec": {
   "display_name": "Python 3",
   "language": "python",
   "name": "python3"
  },
  "language_info": {
   "codemirror_mode": {
    "name": "ipython",
    "version": 3
   },
   "file_extension": ".py",
   "mimetype": "text/x-python",
   "name": "python",
   "nbconvert_exporter": "python",
   "pygments_lexer": "ipython3",
   "version": "3.7.3"
  }
 },
 "nbformat": 4,
 "nbformat_minor": 2
}
