{
 "cells": [
  {
   "cell_type": "code",
   "execution_count": 24,
   "metadata": {},
   "outputs": [],
   "source": [
    "# Reformat datasets into adjacency matrices\n",
    "\n",
    "# Facebook data from: https://snap.stanford.edu/data/ego-Facebook.html\n",
    "\n",
    "# Potential others:\n",
    "# - Graph representation of organic solar cell\n",
    "#       (https://data.mendeley.com/datasets/rvdnt639c2/2)\n",
    "# - "
   ]
  },
  {
   "cell_type": "code",
   "execution_count": 25,
   "metadata": {},
   "outputs": [
    {
     "ename": "ModuleNotFoundError",
     "evalue": "No module named 'localsolver'",
     "output_type": "error",
     "traceback": [
      "\u001b[1;31m---------------------------------------------------------------------------\u001b[0m",
      "\u001b[1;31mModuleNotFoundError\u001b[0m                       Traceback (most recent call last)",
      "\u001b[1;32m<ipython-input-25-ea291b17fbc4>\u001b[0m in \u001b[0;36m<module>\u001b[1;34m\u001b[0m\n\u001b[0;32m      1\u001b[0m \u001b[1;32mimport\u001b[0m \u001b[0mgzip\u001b[0m\u001b[1;33m\u001b[0m\u001b[1;33m\u001b[0m\u001b[0m\n\u001b[0;32m      2\u001b[0m \u001b[1;32mimport\u001b[0m \u001b[0mnumpy\u001b[0m \u001b[1;32mas\u001b[0m \u001b[0mnp\u001b[0m\u001b[1;33m\u001b[0m\u001b[1;33m\u001b[0m\u001b[0m\n\u001b[1;32m----> 3\u001b[1;33m \u001b[1;32mimport\u001b[0m \u001b[0mlocalsolver\u001b[0m\u001b[1;33m\u001b[0m\u001b[1;33m\u001b[0m\u001b[0m\n\u001b[0m",
      "\u001b[1;31mModuleNotFoundError\u001b[0m: No module named 'localsolver'"
     ]
    }
   ],
   "source": [
    "import gzip\n",
    "import numpy as np\n",
    "# import localsolver"
   ]
  },
  {
   "cell_type": "code",
   "execution_count": 26,
   "metadata": {},
   "outputs": [
    {
     "name": "stdout",
     "output_type": "stream",
     "text": [
      "[[0 1 1 ... 0 0 0]\n",
      " [1 0 0 ... 0 0 0]\n",
      " [1 0 0 ... 0 0 0]\n",
      " ...\n",
      " [0 0 0 ... 0 0 0]\n",
      " [0 0 0 ... 0 0 0]\n",
      " [0 0 0 ... 0 0 0]]\n"
     ]
    }
   ],
   "source": [
    "# Facebook data, 4039 nodes\n",
    "matrix = np.zeros((4039, 4039), dtype=int)\n",
    "with gzip.open(\"facebook_combined.txt.gz\", \"rt\") as f:\n",
    "    content = f.readlines()\n",
    "    \n",
    "    for line in content:\n",
    "        friend = line.split()\n",
    "        matrix[int(friend[0])][int(friend[1])] += 1\n",
    "        matrix[int(friend[1])][int(friend[0])] += 1\n",
    "    f.close()\n",
    "    \n",
    "print(matrix)\n"
   ]
  },
  {
   "cell_type": "code",
   "execution_count": null,
   "metadata": {},
   "outputs": [],
   "source": [
    "# Code for Max cut solver from https://www.localsolver.com/docs/last/exampletour/maxcut.html\n",
    "# with localsolver.LocalSolver() as ls:\n",
    "    \n",
    "#     #\n",
    "#     # Declares the optimization model\n",
    "#     #\n",
    "#     model = ls.model\n",
    "\n",
    "#     # Decision variables x[i]\n",
    "#     # Is true if vertex x[i] is on the right side of the cut and false if it is on the left side of the cut\n",
    "#     x = [model.bool() for i in range(n)]\n",
    "\n",
    "#     # incut[e] is true if its endpoints are in different class of the partition\n",
    "#     incut = [None]*m\n",
    "#     for e in range(m):\n",
    "#         incut[e] = model.neq(x[origin[e] - 1], x[dest[e] - 1])\n",
    "\n",
    "#     # Size of the cut\n",
    "#     cut_weight = model.sum(w[e]*incut[e] for e in range(m))\n",
    "#     model.maximize(cut_weight)\n",
    "\n",
    "#     model.close()\n",
    "\n",
    "#     #\n",
    "#     # Param\n",
    "#     #\n",
    "#     if len(sys.argv) >= 4: ls.param.time_limit = int(sys.argv[3])\n",
    "#     else: ls.param.time_limit = 10\n",
    "\n",
    "#     ls.solve()"
   ]
  }
 ],
 "metadata": {
  "kernelspec": {
   "display_name": "Python 3",
   "language": "python",
   "name": "python3"
  },
  "language_info": {
   "codemirror_mode": {
    "name": "ipython",
    "version": 3
   },
   "file_extension": ".py",
   "mimetype": "text/x-python",
   "name": "python",
   "nbconvert_exporter": "python",
   "pygments_lexer": "ipython3",
   "version": "3.7.3"
  }
 },
 "nbformat": 4,
 "nbformat_minor": 2
}
