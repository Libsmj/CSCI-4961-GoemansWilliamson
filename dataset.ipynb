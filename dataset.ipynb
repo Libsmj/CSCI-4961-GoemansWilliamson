{
 "cells": [
  {
   "cell_type": "code",
   "execution_count": 1,
   "metadata": {},
   "outputs": [],
   "source": [
    "# Reformat datasets into adjacency matrices\n",
    "\n",
    "# Facebook data from: https://snap.stanford.edu/data/ego-Facebook.html"
   ]
  },
  {
   "cell_type": "code",
   "execution_count": 2,
   "metadata": {},
   "outputs": [],
   "source": [
    "import gzip\n",
    "import numpy as np\n",
    "import os\n",
    "import requests\n",
    "import tarfile\n"
   ]
  },
  {
   "cell_type": "code",
   "execution_count": 3,
   "metadata": {},
   "outputs": [],
   "source": [
    "# Downloads individual facebook networks\n",
    "link_ind = \"https://snap.stanford.edu/data/facebook.tar.gz\"\n",
    "    \n",
    "if not os.path.isfile(\"facebook.tar.gz\"):\n",
    "    r = requests.get(link_ind, allow_redirects=True)\n",
    "    open(\"facebook.tar.gz\", \"wb\").write(r.content)\n",
    "    print(\"File downloaded from\", link_ind)\n",
    "    \n",
    "if not os.path.isdir(\"facebook\"):\n",
    "    tar = tarfile.open(\"facebook.tar.gz\", \"r:gz\")\n",
    "    tar.extractall()\n",
    "    tar.close()\n",
    "    print(\"Files extracted for facebook.tar.gz\")\n"
   ]
  },
  {
   "cell_type": "code",
   "execution_count": 4,
   "metadata": {},
   "outputs": [],
   "source": [
    "# Facebook graph files\n",
    "# 3980.edges - graph size: (52, 52)\n",
    "# 698.edges - graph size: (61, 61)\n",
    "# 414.edges - graph size: (150, 150)\n",
    "# 686.edges - graph size: (168, 168)\n",
    "# 348.edges - graph size: (224, 224)\n",
    "# 0.edges - graph size: (333, 333)\n",
    "# 3437.edges - graph size: (534, 534)\n",
    "# 1912.edges - graph size: (747, 747)\n",
    "# 1684.edges - graph size: (786, 786)\n",
    "# 107.edges - graph size: (1034, 1034)\n",
    "\n",
    "# returns adjacency matrix for given graph file\n",
    "def partial_facebook(file):\n",
    "    with open(file) as f:\n",
    "        content = f.readlines()\n",
    "        nodes = dict()\n",
    "        i = 0\n",
    "        for line in content:\n",
    "            edge = line.split()\n",
    "            if edge[0] not in nodes:\n",
    "                nodes[edge[0]] = i\n",
    "                i += 1\n",
    "            if edge[1] not in nodes:\n",
    "                nodes[edge[1]] = i\n",
    "                i += 1\n",
    "\n",
    "        matrix = np.zeros((i, i), dtype=int)\n",
    "        for line in content:\n",
    "            edge = line.split()\n",
    "            matrix[nodes[edge[0]]][nodes[edge[1]]] = 1\n",
    "            matrix[nodes[edge[1]]][nodes[edge[0]]] = 1\n",
    "\n",
    "        return matrix"
   ]
  },
  {
   "cell_type": "code",
   "execution_count": 5,
   "metadata": {},
   "outputs": [
    {
     "output_type": "stream",
     "name": "stdout",
     "text": [
      "0.edges\n",
      "(333, 333)\n",
      "107.edges\n",
      "(1034, 1034)\n",
      "1684.edges\n",
      "(786, 786)\n",
      "1912.edges\n",
      "(747, 747)\n",
      "3437.edges\n",
      "(534, 534)\n",
      "348.edges\n",
      "(224, 224)\n",
      "3980.edges\n",
      "(52, 52)\n",
      "414.edges\n",
      "(150, 150)\n",
      "686.edges\n",
      "(168, 168)\n",
      "698.edges\n",
      "(61, 61)\n"
     ]
    }
   ],
   "source": [
    "# Facebook data: facebook.tar.gz, contains 10 separate networks\n",
    "# prints files and size of graphs\n",
    "files = os.listdir(\"facebook/\")\n",
    "for file in files:\n",
    "    if \".edges\" in file:\n",
    "        print(file)\n",
    "        print(partial_facebook(\"facebook/\" + file).shape)\n"
   ]
  }
 ],
 "metadata": {
  "kernelspec": {
   "name": "python3",
   "display_name": "Python 3.7.9 64-bit",
   "metadata": {
    "interpreter": {
     "hash": "6b3eb814270ed2accf938c8313475bfe9e09472ef09b9998fe7c4333e8feb6aa"
    }
   }
  },
  "language_info": {
   "codemirror_mode": {
    "name": "ipython",
    "version": 3
   },
   "file_extension": ".py",
   "mimetype": "text/x-python",
   "name": "python",
   "nbconvert_exporter": "python",
   "pygments_lexer": "ipython3",
   "version": "3.7.9-final"
  }
 },
 "nbformat": 4,
 "nbformat_minor": 2
}